{
 "cells": [
  {
   "cell_type": "code",
   "execution_count": null,
   "id": "a2bdb4a9",
   "metadata": {},
   "outputs": [],
   "source": [
    "from spire.doc import Document\n",
    "from tkinter import Tk, filedialog"
   ]
  },
  {
   "cell_type": "code",
   "execution_count": null,
   "id": "36bf16b6",
   "metadata": {},
   "outputs": [],
   "source": [
    "WARNING_LENGTH = 73"
   ]
  },
  {
   "cell_type": "code",
   "execution_count": null,
   "id": "526d55e1",
   "metadata": {},
   "outputs": [],
   "source": [
    "# Hide the root Tkinter window\n",
    "root = Tk()\n",
    "root.withdraw()\n",
    "\n",
    "# Bring the root window to the front (even though it's hidden)\n",
    "root.attributes('-topmost', True)\n",
    "root.lift()\n",
    "root.focus_force()"
   ]
  },
  {
   "cell_type": "code",
   "execution_count": null,
   "id": "9fdce88b",
   "metadata": {},
   "outputs": [],
   "source": [
    "# Open a file dialog for selecting one or more .docx files\n",
    "docx_filenames = filedialog.askopenfilenames(\n",
    "    title=\"Select DOCX files\",\n",
    "    filetypes=[(\"Word Documents\", \"*.docx\")]\n",
    ")\n",
    "\n",
    "docx_filenames"
   ]
  },
  {
   "cell_type": "code",
   "execution_count": null,
   "id": "8ee4d6c5",
   "metadata": {},
   "outputs": [],
   "source": [
    "portfolio_text = \"\""
   ]
  },
  {
   "cell_type": "code",
   "execution_count": null,
   "id": "0040e1a8",
   "metadata": {},
   "outputs": [],
   "source": [
    "for filename in docx_filenames:\n",
    "    doc = Document()\n",
    "    doc.LoadFromFile(filename)\n",
    "    text = doc.GetText() + \"\\n\\n\"\n",
    "    portfolio_text += text[WARNING_LENGTH:]\n",
    "    doc.Close()"
   ]
  },
  {
   "cell_type": "code",
   "execution_count": null,
   "id": "efe15340",
   "metadata": {},
   "outputs": [],
   "source": [
    "# Open a file dialog for selecting .txt file to save as\n",
    "text_filename = filedialog.asksaveasfile(\n",
    "    title=\"Select TXT files\",\n",
    "    filetypes=[(\"Text Documents\", \"*.txt\")]\n",
    ")"
   ]
  },
  {
   "cell_type": "code",
   "execution_count": null,
   "id": "a4c5df34",
   "metadata": {},
   "outputs": [],
   "source": [
    "if text_filename:\n",
    "    with open(text_filename.name, 'w', encoding='utf-8') as f:\n",
    "        f.write(portfolio_text)"
   ]
  },
  {
   "cell_type": "code",
   "execution_count": null,
   "id": "7eab8989",
   "metadata": {},
   "outputs": [],
   "source": [
    "print(text_filename.name)"
   ]
  }
 ],
 "metadata": {
  "kernelspec": {
   "display_name": "WordDoc",
   "language": "python",
   "name": "python3"
  },
  "language_info": {
   "codemirror_mode": {
    "name": "ipython",
    "version": 3
   },
   "file_extension": ".py",
   "mimetype": "text/x-python",
   "name": "python",
   "nbconvert_exporter": "python",
   "pygments_lexer": "ipython3",
   "version": "3.12.11"
  }
 },
 "nbformat": 4,
 "nbformat_minor": 5
}
