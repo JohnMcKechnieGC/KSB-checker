{
 "cells": [
  {
   "cell_type": "code",
   "execution_count": null,
   "id": "a2bdb4a9",
   "metadata": {},
   "outputs": [],
   "source": [
    "from spire.doc import Document\n",
    "import UI.dialogs as ui"
   ]
  },
  {
   "cell_type": "code",
   "execution_count": null,
   "id": "9fdce88b",
   "metadata": {},
   "outputs": [],
   "source": [
    "docx_filenames = ui.files_to_open('docx')"
   ]
  },
  {
   "cell_type": "code",
   "execution_count": null,
   "id": "8ee4d6c5",
   "metadata": {},
   "outputs": [],
   "source": [
    "portfolio_text = \"\""
   ]
  },
  {
   "cell_type": "code",
   "execution_count": null,
   "id": "0040e1a8",
   "metadata": {},
   "outputs": [],
   "source": [
    "SPIRE_WARNING_LENGTH = 73\n",
    "\n",
    "for filename in docx_filenames:\n",
    "    doc = Document()\n",
    "    doc.LoadFromFile(filename)\n",
    "    text = doc.GetText() + \"\\n\\n\"\n",
    "    portfolio_text += text[SPIRE_WARNING_LENGTH:]\n",
    "    doc.Close()"
   ]
  },
  {
   "cell_type": "code",
   "execution_count": null,
   "id": "efe15340",
   "metadata": {},
   "outputs": [],
   "source": [
    "text_filename = ui.file_to_save(\"txt\")"
   ]
  },
  {
   "cell_type": "code",
   "execution_count": null,
   "id": "53149a37",
   "metadata": {},
   "outputs": [],
   "source": [
    "text_filename"
   ]
  },
  {
   "cell_type": "code",
   "execution_count": null,
   "id": "a4c5df34",
   "metadata": {},
   "outputs": [],
   "source": [
    "if text_filename:\n",
    "    with open(text_filename, 'w', encoding='utf-8') as f:\n",
    "        f.write(portfolio_text)"
   ]
  }
 ],
 "metadata": {
  "kernelspec": {
   "display_name": "WordDoc",
   "language": "python",
   "name": "python3"
  },
  "language_info": {
   "codemirror_mode": {
    "name": "ipython",
    "version": 3
   },
   "file_extension": ".py",
   "mimetype": "text/x-python",
   "name": "python",
   "nbconvert_exporter": "python",
   "pygments_lexer": "ipython3",
   "version": "3.12.11"
  }
 },
 "nbformat": 4,
 "nbformat_minor": 5
}
