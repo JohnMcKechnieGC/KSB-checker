{
 "cells": [
  {
   "cell_type": "markdown",
   "id": "50bc2f05",
   "metadata": {},
   "source": [
    "# KSB Checker"
   ]
  },
  {
   "cell_type": "markdown",
   "id": "6146af61",
   "metadata": {},
   "source": [
    "## Set up"
   ]
  },
  {
   "cell_type": "code",
   "execution_count": null,
   "id": "55bd36f4",
   "metadata": {},
   "outputs": [],
   "source": [
    "from langchain_core.prompts import ChatPromptTemplate\n",
    "from langchain_ollama.llms import OllamaLLM\n",
    "\n",
    "import UI.dialogs as ui"
   ]
  },
  {
   "cell_type": "code",
   "execution_count": null,
   "id": "85fadee3",
   "metadata": {},
   "outputs": [],
   "source": [
    "# Edit the template to modify the way the model evaluates the text.\n",
    "from prompt import TEMPLATE"
   ]
  },
  {
   "cell_type": "code",
   "execution_count": null,
   "id": "2041f73e",
   "metadata": {},
   "outputs": [],
   "source": [
    "# Choose which apprenticeship standard to evaluate the portfolio against.\n",
    "from l3_digital_support_technician import criteria\n",
    "#from l4_software_developer import criteria"
   ]
  },
  {
   "cell_type": "markdown",
   "id": "b21e2fa3",
   "metadata": {},
   "source": [
    "### Choose the AI model"
   ]
  },
  {
   "cell_type": "code",
   "execution_count": null,
   "id": "95bd63f2",
   "metadata": {},
   "outputs": [],
   "source": [
    "#MODEL = \"llama3.2\"  # Quicker for testing\n",
    "MODEL = \"gpt-oss\"  # Better for evaluation\n",
    "#MODEL = \"deepseek-r1:32b\"  # Deepseek alternative"
   ]
  },
  {
   "cell_type": "code",
   "execution_count": null,
   "id": "6eb1ac0c",
   "metadata": {},
   "outputs": [],
   "source": [
    "model = OllamaLLM(model=MODEL)"
   ]
  },
  {
   "cell_type": "markdown",
   "id": "039e138b",
   "metadata": {},
   "source": [
    "## Get the portfolio text"
   ]
  },
  {
   "cell_type": "code",
   "execution_count": null,
   "id": "7b0a9707",
   "metadata": {},
   "outputs": [],
   "source": [
    "portfolio_filename = ui.file_to_open(\"txt\")"
   ]
  },
  {
   "cell_type": "code",
   "execution_count": null,
   "id": "ad5b66eb",
   "metadata": {},
   "outputs": [],
   "source": [
    "with open(portfolio_filename, \"r\", encoding=\"utf-8\") as f:\n",
    "    portfolio_text = f.read()"
   ]
  },
  {
   "cell_type": "markdown",
   "id": "559a3259",
   "metadata": {},
   "source": [
    "## Evaluate the portfolio"
   ]
  },
  {
   "cell_type": "code",
   "execution_count": null,
   "id": "56a378bf",
   "metadata": {},
   "outputs": [],
   "source": [
    "# Construct the prompt using the template to add the portfolio text\n",
    "# and KSBs from the apprenticeship standard.\n",
    "prompt = ChatPromptTemplate.from_template(TEMPLATE)"
   ]
  },
  {
   "cell_type": "code",
   "execution_count": null,
   "id": "8b156d40",
   "metadata": {},
   "outputs": [],
   "source": [
    "chain = prompt | model"
   ]
  },
  {
   "cell_type": "code",
   "execution_count": null,
   "id": "9cba47d7",
   "metadata": {},
   "outputs": [],
   "source": [
    "evaluation_text = \"\"\n",
    "evaluation_filename = ui.file_to_save(\"md\")"
   ]
  },
  {
   "cell_type": "code",
   "execution_count": null,
   "id": "c700be5d",
   "metadata": {},
   "outputs": [],
   "source": [
    "for heading, criteria_text in criteria.items():\n",
    "    print(f\"Evaluating: {heading}\")\n",
    "    response = chain.invoke(\n",
    "        {\n",
    "            \"portfolio_text\": f\"{portfolio_text}\",\n",
    "            \"ksbs\": f\"{criteria_text}\",\n",
    "        }\n",
    "    )\n",
    "    evaluation_text += f\"## {heading}\\n\\n{response}\\n\\n\"\n"
   ]
  },
  {
   "cell_type": "markdown",
   "id": "912bf68a",
   "metadata": {},
   "source": [
    "### Save the evaluation"
   ]
  },
  {
   "cell_type": "code",
   "execution_count": null,
   "id": "20d89d09",
   "metadata": {},
   "outputs": [],
   "source": [
    "if evaluation_filename:\n",
    "    with open(evaluation_filename, 'w', encoding='utf-8') as f:\n",
    "        f.write(evaluation_text)"
   ]
  }
 ],
 "metadata": {
  "kernelspec": {
   "display_name": "LangChain25-26",
   "language": "python",
   "name": "python3"
  },
  "language_info": {
   "codemirror_mode": {
    "name": "ipython",
    "version": 3
   },
   "file_extension": ".py",
   "mimetype": "text/x-python",
   "name": "python",
   "nbconvert_exporter": "python",
   "pygments_lexer": "ipython3",
   "version": "3.12.11"
  }
 },
 "nbformat": 4,
 "nbformat_minor": 5
}
