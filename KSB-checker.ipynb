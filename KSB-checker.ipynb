{
 "cells": [
  {
   "cell_type": "markdown",
   "id": "50bc2f05",
   "metadata": {},
   "source": [
    "# KSB Checker"
   ]
  },
  {
   "cell_type": "markdown",
   "id": "6146af61",
   "metadata": {},
   "source": [
    "## Set up"
   ]
  },
  {
   "cell_type": "code",
   "execution_count": null,
   "id": "55bd36f4",
   "metadata": {},
   "outputs": [],
   "source": [
    "from langchain_core.prompts import ChatPromptTemplate\n",
    "from langchain_ollama.llms import OllamaLLM\n",
    "from tkinter import Tk, filedialog\n",
    "\n",
    "#from l3_digital_support_technician import criteria\n",
    "from l4_software_developer import criteria"
   ]
  },
  {
   "cell_type": "code",
   "execution_count": null,
   "id": "275783e5",
   "metadata": {},
   "outputs": [],
   "source": [
    "# Use TkInter to open a file dialog\n",
    "# Hide the root Tkinter window\n",
    "root = Tk()\n",
    "root.withdraw()\n",
    "\n",
    "# Bring the root window to the front (even though it's hidden)\n",
    "root.attributes('-topmost', True)\n",
    "root.lift()\n",
    "root.focus_force()"
   ]
  },
  {
   "cell_type": "code",
   "execution_count": null,
   "id": "6eb1ac0c",
   "metadata": {},
   "outputs": [],
   "source": [
    "# model = OllamaLLM(model=\"llama3.2\")  # Quicker for testing\n",
    "model = OllamaLLM(model=\"gpt-oss\")  # Better for evaluation\n"
   ]
  },
  {
   "cell_type": "code",
   "execution_count": null,
   "id": "598cf3c7",
   "metadata": {},
   "outputs": [],
   "source": [
    "template = \"\"\"\n",
    "An apprentice has submitted the following text as part of their portfolio. Note that\n",
    "images were included in the portfolio, but they are not included in the text below.\n",
    "Here is the portfolio text:\n",
    "\n",
    "{portfolio_text}\n",
    "\n",
    "Your task:\n",
    "Please now determine if any of the following Knowledge, Skills, and Behaviours (KSBs) have\n",
    "been met, including whether the apprentice has fulfulled the pass or distinction criteria.\n",
    "I would like this in the format of a table showing, for each KSB:\n",
    "- highlights of any evidence from the portfolio,\n",
    "- whether the pass criteria have been met,\n",
    "- whether the distinction criteria have been met (if applicable), and\n",
    "- suggestions for how the evidence could be strengthend.\n",
    "\n",
    "Please use gender neutral pronouns like 'they' and 'them' if referring to the apprentice. Some\n",
    "external examiners are quite hard to please. So please only indicate that criteria have been\n",
    "met when there's little doubt that it's true.\n",
    "\n",
    "KSBs:\n",
    "{ksbs}\n",
    "\"\"\""
   ]
  },
  {
   "cell_type": "markdown",
   "id": "039e138b",
   "metadata": {},
   "source": [
    "## Portfolio"
   ]
  },
  {
   "cell_type": "code",
   "execution_count": null,
   "id": "7b0a9707",
   "metadata": {},
   "outputs": [],
   "source": [
    "# Get the portfolio text file\n",
    "# This can be created using the extract-text.ipynb notebook\n",
    "portfolio_filename = filedialog.askopenfilename(\n",
    "    title=\"Select TXT files\",\n",
    "    filetypes=[(\"Text Documents\", \"*.txt\")]\n",
    ")\n",
    "\n",
    "portfolio_filename"
   ]
  },
  {
   "cell_type": "code",
   "execution_count": null,
   "id": "9cba47d7",
   "metadata": {},
   "outputs": [],
   "source": [
    "# Open a file dialog for selecting a markdown file to save as\n",
    "evaluation_filename = filedialog.asksaveasfile(\n",
    "    title=\"Select MD files\",\n",
    "    filetypes=[(\"Markdown Documents\", \"*.MD\")]\n",
    ")"
   ]
  },
  {
   "cell_type": "code",
   "execution_count": null,
   "id": "ad5b66eb",
   "metadata": {},
   "outputs": [],
   "source": [
    "with open(portfolio_filename, \"r\", encoding=\"utf-8\") as f:\n",
    "    portfolio_text = f.read()"
   ]
  },
  {
   "cell_type": "markdown",
   "id": "559a3259",
   "metadata": {},
   "source": [
    "## Evaluation"
   ]
  },
  {
   "cell_type": "code",
   "execution_count": null,
   "id": "8b156d40",
   "metadata": {},
   "outputs": [],
   "source": [
    "prompt = ChatPromptTemplate.from_template(template)"
   ]
  },
  {
   "cell_type": "code",
   "execution_count": null,
   "id": "26ff83b2",
   "metadata": {},
   "outputs": [],
   "source": [
    "chain = prompt | model"
   ]
  },
  {
   "cell_type": "code",
   "execution_count": null,
   "id": "cdf34e67",
   "metadata": {},
   "outputs": [],
   "source": [
    "evaluation_text = \"\""
   ]
  },
  {
   "cell_type": "code",
   "execution_count": null,
   "id": "c700be5d",
   "metadata": {},
   "outputs": [],
   "source": [
    "for heading, criteria_text in criteria.items():\n",
    "    print(f\"Evaluating: {heading}\")\n",
    "    response = chain.invoke(\n",
    "        {\n",
    "            \"portfolio_text\": f\"{portfolio_text}\",\n",
    "            \"ksbs\": f\"{criteria_text}\",\n",
    "        }\n",
    "    )\n",
    "    evaluation_text += f\"## {heading}\\n\\n{response}\\n\\n\"\n"
   ]
  },
  {
   "cell_type": "code",
   "execution_count": null,
   "id": "20d89d09",
   "metadata": {},
   "outputs": [],
   "source": [
    "if evaluation_filename:\n",
    "    with open(evaluation_filename.name, 'w', encoding='utf-8') as f:\n",
    "        f.write(evaluation_text)"
   ]
  }
 ],
 "metadata": {
  "kernelspec": {
   "display_name": "LangChain25-26",
   "language": "python",
   "name": "python3"
  },
  "language_info": {
   "codemirror_mode": {
    "name": "ipython",
    "version": 3
   },
   "file_extension": ".py",
   "mimetype": "text/x-python",
   "name": "python",
   "nbconvert_exporter": "python",
   "pygments_lexer": "ipython3",
   "version": "3.12.11"
  }
 },
 "nbformat": 4,
 "nbformat_minor": 5
}
